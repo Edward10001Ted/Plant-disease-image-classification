{
  "cells": [
    {
      "cell_type": "code",
      "execution_count": null,
      "metadata": {
        "id": "qwek6l2J7DvB"
      },
      "outputs": [],
      "source": [
        "import numpy as np\n",
        "import matplotlib.pyplot as plt\n",
        "import keras\n",
        "import tensorflow as tf"
      ]
    },
    {
      "cell_type": "code",
      "execution_count": null,
      "metadata": {
        "id": "abfhugPQ4MZm"
      },
      "outputs": [],
      "source": [
        "from keras import utils"
      ]
    },
    {
      "cell_type": "code",
      "execution_count": null,
      "metadata": {
        "colab": {
          "base_uri": "https://localhost:8080/"
        },
        "id": "71gQ_Md44McG",
        "outputId": "9a514d60-d97b-4874-8bbd-f5f7df7e1cff"
      },
      "outputs": [
        {
          "name": "stdout",
          "output_type": "stream",
          "text": [
            "Found 70437 files belonging to 38 classes.\n"
          ]
        }
      ],
      "source": [
        "plant_train = utils.image_dataset_from_directory(\n",
        "                '/content/drive/MyDrive/archive (6)/New Plant Diseases Dataset(Augmented)/New Plant Diseases Dataset(Augmented)/train',\n",
        "                label_mode = \"int\",\n",
        "                labels=\"inferred\",\n",
        "                color_mode = \"rgb\",\n",
        "                image_size = (200,200)\n",
        "\n",
        ")"
      ]
    },
    {
      "cell_type": "code",
      "execution_count": null,
      "metadata": {
        "colab": {
          "base_uri": "https://localhost:8080/"
        },
        "id": "lwfvHBrJ4Mef",
        "outputId": "9110a26f-3b0c-471b-dd9d-27c60bf3321e"
      },
      "outputs": [
        {
          "name": "stdout",
          "output_type": "stream",
          "text": [
            "Found 17582 files belonging to 38 classes.\n",
            "Using 12308 files for training.\n"
          ]
        }
      ],
      "source": [
        "plant_validation = utils.image_dataset_from_directory(\n",
        "                '/content/drive/MyDrive/archive (6)/New Plant Diseases Dataset(Augmented)/New Plant Diseases Dataset(Augmented)/valid',\n",
        "                label_mode = \"int\",\n",
        "                labels=\"inferred\",\n",
        "                color_mode = \"rgb\",\n",
        "                image_size = (200,200),\n",
        "                subset = 'training',\n",
        "                seed = 123,\n",
        "                validation_split = 0.3\n",
        "\n",
        ")"
      ]
    },
    {
      "cell_type": "code",
      "execution_count": null,
      "metadata": {
        "colab": {
          "base_uri": "https://localhost:8080/"
        },
        "id": "vjSjKSle4Mgk",
        "outputId": "66f50fb4-c87a-4ee5-d87d-d71bc5b7692c"
      },
      "outputs": [
        {
          "name": "stdout",
          "output_type": "stream",
          "text": [
            "Found 17582 files belonging to 38 classes.\n",
            "Using 5274 files for validation.\n"
          ]
        }
      ],
      "source": [
        "plant_test = utils.image_dataset_from_directory(\n",
        "                '/content/drive/MyDrive/archive (6)/New Plant Diseases Dataset(Augmented)/New Plant Diseases Dataset(Augmented)/valid',\n",
        "                label_mode = \"int\",\n",
        "                labels=\"inferred\",\n",
        "                color_mode = \"rgb\",\n",
        "                image_size = (200,200),\n",
        "                subset = 'validation',\n",
        "                seed = 123,\n",
        "                validation_split = 0.3\n",
        "\n",
        ")"
      ]
    },
    {
      "cell_type": "code",
      "execution_count": null,
      "metadata": {
        "id": "4KI5ik77NkhL"
      },
      "outputs": [],
      "source": [
        "class_names = plant_train.class_names"
      ]
    },
    {
      "cell_type": "code",
      "execution_count": null,
      "metadata": {
        "colab": {
          "base_uri": "https://localhost:8080/"
        },
        "id": "aNTWR-KtNt0W",
        "outputId": "390bb698-891f-4ef0-92e5-81dea0ed7149"
      },
      "outputs": [
        {
          "data": {
            "text/plain": [
              "38"
            ]
          },
          "execution_count": 7,
          "metadata": {},
          "output_type": "execute_result"
        }
      ],
      "source": [
        "len(class_names)"
      ]
    },
    {
      "cell_type": "code",
      "execution_count": null,
      "metadata": {
        "colab": {
          "base_uri": "https://localhost:8080/"
        },
        "id": "2r-5AD_b4Mi5",
        "outputId": "5db5c10e-ddfc-492c-d930-cb2811d69723"
      },
      "outputs": [
        {
          "data": {
            "text/plain": [
              "2202"
            ]
          },
          "execution_count": 8,
          "metadata": {},
          "output_type": "execute_result"
        }
      ],
      "source": [
        "tf.data.experimental.cardinality(plant_train).numpy()"
      ]
    },
    {
      "cell_type": "code",
      "execution_count": null,
      "metadata": {
        "colab": {
          "base_uri": "https://localhost:8080/"
        },
        "id": "-rL8Cin-4Mle",
        "outputId": "34910d42-8348-42bc-c433-aece1a50ef91"
      },
      "outputs": [
        {
          "data": {
            "text/plain": [
              "385"
            ]
          },
          "execution_count": 9,
          "metadata": {},
          "output_type": "execute_result"
        }
      ],
      "source": [
        "tf.data.experimental.cardinality(plant_validation).numpy()"
      ]
    },
    {
      "cell_type": "code",
      "execution_count": null,
      "metadata": {
        "colab": {
          "base_uri": "https://localhost:8080/"
        },
        "id": "9PDBJgrj4Mnl",
        "outputId": "681055f2-c77d-4dcd-a942-f9c545461cde"
      },
      "outputs": [
        {
          "data": {
            "text/plain": [
              "165"
            ]
          },
          "execution_count": 10,
          "metadata": {},
          "output_type": "execute_result"
        }
      ],
      "source": [
        "tf.data.experimental.cardinality(plant_test).numpy()"
      ]
    },
    {
      "cell_type": "code",
      "execution_count": null,
      "metadata": {
        "id": "BYHPCzu7IMfe"
      },
      "outputs": [],
      "source": [
        "autotune = tf.data.AUTOTUNE"
      ]
    },
    {
      "cell_type": "code",
      "execution_count": null,
      "metadata": {
        "id": "qllDt3fm4MrF"
      },
      "outputs": [],
      "source": [
        "plant_train =  plant_train.prefetch(buffer_size=autotune)"
      ]
    },
    {
      "cell_type": "code",
      "execution_count": null,
      "metadata": {
        "id": "w8EF6rKk7Zgu"
      },
      "outputs": [],
      "source": [
        "plant_test =  plant_test.prefetch(buffer_size=autotune)"
      ]
    },
    {
      "cell_type": "code",
      "execution_count": null,
      "metadata": {
        "id": "fqhrNZtIIIrb"
      },
      "outputs": [],
      "source": [
        "plant_validation =  plant_validation.prefetch(buffer_size=autotune)"
      ]
    },
    {
      "cell_type": "code",
      "execution_count": null,
      "metadata": {
        "id": "wy3WqED6IIux"
      },
      "outputs": [],
      "source": [
        "data_augmentation = keras.Sequential([\n",
        "    keras.layers.RandomFlip('horizontal'),\n",
        "    keras.layers.RandomRotation(0.2)\n",
        "])"
      ]
    },
    {
      "cell_type": "code",
      "execution_count": null,
      "metadata": {
        "id": "UgIzPRwH5JpC"
      },
      "outputs": [],
      "source": [
        "preprocess_input = keras.applications.resnet50.preprocess_input"
      ]
    },
    {
      "cell_type": "code",
      "execution_count": null,
      "metadata": {
        "colab": {
          "base_uri": "https://localhost:8080/"
        },
        "id": "xx3nhlNc59de",
        "outputId": "f5dd0e5e-552f-4e5c-fa98-1c2074ad6ea4"
      },
      "outputs": [
        {
          "name": "stdout",
          "output_type": "stream",
          "text": [
            "Downloading data from https://storage.googleapis.com/tensorflow/keras-applications/resnet/resnet50_weights_tf_dim_ordering_tf_kernels_notop.h5\n",
            "94765736/94765736 [==============================] - 1s 0us/step\n"
          ]
        }
      ],
      "source": [
        "base_model = keras.applications.ResNet50(include_top=False,\n",
        "                                         input_shape=(200,200,3),\n",
        "                                         weights = 'imagenet'\n",
        "\n",
        "                                         )"
      ]
    },
    {
      "cell_type": "code",
      "execution_count": null,
      "metadata": {
        "id": "9--sxGFb6vSF"
      },
      "outputs": [],
      "source": [
        "base_model.trainable = False"
      ]
    },
    {
      "cell_type": "code",
      "execution_count": null,
      "metadata": {
        "colab": {
          "base_uri": "https://localhost:8080/"
        },
        "id": "yOsPojrA7Pmb",
        "outputId": "ce009085-bb7f-4e1e-fb03-955cacd8151a"
      },
      "outputs": [
        {
          "data": {
            "text/plain": [
              "0"
            ]
          },
          "execution_count": 19,
          "metadata": {},
          "output_type": "execute_result"
        }
      ],
      "source": [
        "len(base_model.trainable_weights)"
      ]
    },
    {
      "cell_type": "code",
      "execution_count": null,
      "metadata": {
        "colab": {
          "base_uri": "https://localhost:8080/"
        },
        "id": "h-rq9kO9MAGl",
        "outputId": "80e30260-782d-4195-9a3b-39539309e5a6"
      },
      "outputs": [
        {
          "data": {
            "text/plain": [
              "318"
            ]
          },
          "execution_count": 20,
          "metadata": {},
          "output_type": "execute_result"
        }
      ],
      "source": [
        "len(base_model.non_trainable_weights)"
      ]
    },
    {
      "cell_type": "code",
      "execution_count": null,
      "metadata": {
        "colab": {
          "base_uri": "https://localhost:8080/"
        },
        "id": "2hOo56fPMAI7",
        "outputId": "0411f2ce-c0eb-47bb-953e-360ee008837f"
      },
      "outputs": [
        {
          "data": {
            "text/plain": [
              "38"
            ]
          },
          "execution_count": 21,
          "metadata": {},
          "output_type": "execute_result"
        }
      ],
      "source": [
        "len(class_names)"
      ]
    },
    {
      "cell_type": "code",
      "execution_count": null,
      "metadata": {
        "id": "vmYGuRS8MAMY"
      },
      "outputs": [],
      "source": []
    },
    {
      "cell_type": "code",
      "execution_count": null,
      "metadata": {
        "id": "uEQuCeG27btc"
      },
      "outputs": [],
      "source": [
        "global_average_layer = keras.layers.GlobalAvgPool2D()"
      ]
    },
    {
      "cell_type": "code",
      "execution_count": null,
      "metadata": {
        "id": "3PABBGte8XJA"
      },
      "outputs": [],
      "source": []
    },
    {
      "cell_type": "code",
      "execution_count": null,
      "metadata": {
        "id": "oXZxMi4KOjsg"
      },
      "outputs": [],
      "source": [
        "inputs  = keras.layers.Input(shape=(200,200,3))\n",
        "x = preprocess_input(inputs)\n",
        "x = base_model(x, training=False)\n",
        "x = global_average_layer(x)\n",
        "prediction_layer = keras.layers.Dense(400,activation='relu',kernel_initializer='he_normal')(x)\n",
        "prediction_layer = keras.layers.Dense(219,activation='relu',kernel_initializer='he_normal')(prediction_layer)\n",
        "output = keras.layers.Dense(38,activation='softmax',kernel_initializer='he_normal')(prediction_layer)\n"
      ]
    },
    {
      "cell_type": "code",
      "execution_count": null,
      "metadata": {
        "id": "9bVBdFyfRftW"
      },
      "outputs": [],
      "source": [
        "model = keras.models.Model(inputs = inputs,outputs = output)"
      ]
    },
    {
      "cell_type": "code",
      "execution_count": null,
      "metadata": {
        "id": "aogXfdzdR3ts"
      },
      "outputs": [],
      "source": [
        "lr = 0.0001"
      ]
    },
    {
      "cell_type": "code",
      "execution_count": null,
      "metadata": {
        "id": "rIfNLgjJRqmX"
      },
      "outputs": [],
      "source": [
        "model.compile(optimizer=keras.optimizers.Adam(learning_rate = lr),loss=keras.losses.SparseCategoricalCrossentropy(from_logits=False),metrics=['accuracy'])"
      ]
    },
    {
      "cell_type": "code",
      "execution_count": null,
      "metadata": {
        "colab": {
          "base_uri": "https://localhost:8080/"
        },
        "id": "Yt_YUrKKSk-A",
        "outputId": "7089e03a-87e1-4514-a0d6-07ffe252c89a"
      },
      "outputs": [
        {
          "name": "stdout",
          "output_type": "stream",
          "text": [
            "Model: \"model\"\n",
            "_________________________________________________________________\n",
            " Layer (type)                Output Shape              Param #   \n",
            "=================================================================\n",
            " input_2 (InputLayer)        [(None, 200, 200, 3)]     0         \n",
            "                                                                 \n",
            " tf.__operators__.getitem (  (None, 200, 200, 3)       0         \n",
            " SlicingOpLambda)                                                \n",
            "                                                                 \n",
            " tf.nn.bias_add (TFOpLambda  (None, 200, 200, 3)       0         \n",
            " )                                                               \n",
            "                                                                 \n",
            " resnet50 (Functional)       (None, 7, 7, 2048)        23587712  \n",
            "                                                                 \n",
            " global_average_pooling2d (  (None, 2048)              0         \n",
            " GlobalAveragePooling2D)                                         \n",
            "                                                                 \n",
            " dense (Dense)               (None, 400)               819600    \n",
            "                                                                 \n",
            " dense_1 (Dense)             (None, 219)               87819     \n",
            "                                                                 \n",
            " dense_2 (Dense)             (None, 38)                8360      \n",
            "                                                                 \n",
            "=================================================================\n",
            "Total params: 24503491 (93.47 MB)\n",
            "Trainable params: 915779 (3.49 MB)\n",
            "Non-trainable params: 23587712 (89.98 MB)\n",
            "_________________________________________________________________\n"
          ]
        }
      ],
      "source": [
        "model.summary()"
      ]
    },
    {
      "cell_type": "code",
      "execution_count": null,
      "metadata": {
        "id": "mkUn0FK7Tbw0"
      },
      "outputs": [],
      "source": [
        "epoch = 20\n",
        "callbacks = keras.callbacks.EarlyStopping(patience=3,monitor='val_loss')"
      ]
    },
    {
      "cell_type": "code",
      "execution_count": null,
      "metadata": {
        "colab": {
          "background_save": true,
          "base_uri": "https://localhost:8080/"
        },
        "id": "MlFGIgQjS0iW",
        "outputId": "495db863-f116-41ea-9fdc-328e5f560e7b"
      },
      "outputs": [
        {
          "name": "stdout",
          "output_type": "stream",
          "text": [
            "1565/2202 [====================>.........] - ETA: 1:19:19 - loss: 0.4820 - accuracy: 0.8848"
          ]
        }
      ],
      "source": [
        "history = model.fit(plant_train,validation_data=plant_validation,epochs=1,callbacks=callbacks)"
      ]
    },
    {
      "cell_type": "code",
      "execution_count": null,
      "metadata": {
        "id": "0xzw4NFuTaii"
      },
      "outputs": [],
      "source": []
    },
    {
      "cell_type": "code",
      "execution_count": null,
      "metadata": {
        "id": "m_zFMq0UCVBP"
      },
      "outputs": [],
      "source": [
        "loss = history.history['loss']\n",
        "val_loss =  history.history['val_loss']"
      ]
    },
    {
      "cell_type": "code",
      "execution_count": null,
      "metadata": {
        "id": "gHYquKxOCdPy"
      },
      "outputs": [],
      "source": [
        "plt.plot(history.epoch,loss,label='Training loss')\n",
        "plt.plot(history.epoch,val_loss,label='Validation loss')\n",
        "plt.xlabel('Epochs')\n",
        "plt.ylabel('Loss')\n",
        "plt.title('Plant Training Cross-Validation')"
      ]
    },
    {
      "cell_type": "code",
      "execution_count": null,
      "metadata": {
        "id": "NY579ZMEC8oK"
      },
      "outputs": [],
      "source": [
        "model.compile(optimizer=keras.optimizer.RMSprop(learning_rate =lr/10),loss=keras.losses.SparseCategoricalCrossentropy(from_logits=False),metrics=['accuracy'])"
      ]
    },
    {
      "cell_type": "code",
      "execution_count": null,
      "metadata": {
        "id": "JAFZx-3ADkEO"
      },
      "outputs": [],
      "source": [
        "final_epoch = 40"
      ]
    },
    {
      "cell_type": "code",
      "execution_count": null,
      "metadata": {
        "id": "HgH3HT93DgcK"
      },
      "outputs": [],
      "source": [
        "history_fine = model.fit(plant_train,validation_data=plant_validation,epochs=epoch,callbacks=callbacks,initial_epoch=history.epoch[-1],epochs=1)"
      ]
    },
    {
      "cell_type": "code",
      "execution_count": null,
      "metadata": {
        "id": "2E5y3WhhEGp3"
      },
      "outputs": [],
      "source": [
        "pred = model.predict(plant_test)"
      ]
    },
    {
      "cell_type": "code",
      "execution_count": null,
      "metadata": {
        "id": "zsgci0RhD-Xd"
      },
      "outputs": [],
      "source": [
        "plt.plot(history_fine.epoch,loss,label='Training loss')\n",
        "plt.plot(history_fine.epoch,val_loss,label='Validation loss')\n",
        "plt.xlabel('Epochs')\n",
        "plt.ylabel('Loss')\n",
        "plt.title('Plant Training Cross-Validation')"
      ]
    },
    {
      "cell_type": "code",
      "execution_count": null,
      "metadata": {
        "id": "x9KKNLMCEN1u"
      },
      "outputs": [],
      "source": []
    }
  ],
  "metadata": {
    "colab": {
      "provenance": []
    },
    "kernelspec": {
      "display_name": "Python 3",
      "name": "python3"
    },
    "language_info": {
      "name": "python"
    }
  },
  "nbformat": 4,
  "nbformat_minor": 0
}
